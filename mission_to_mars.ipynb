{
 "cells": [
  {
   "cell_type": "code",
   "execution_count": 1,
   "id": "equal-monaco",
   "metadata": {
    "collapsed": true
   },
   "outputs": [],
   "source": [
    "# Dependencies\n",
    "from bs4 import BeautifulSoup\n",
    "import requests\n",
    "import pymongo"
   ]
  },
  {
   "cell_type": "code",
   "execution_count": 2,
   "id": "cathedral-boards",
   "metadata": {
    "collapsed": true
   },
   "outputs": [],
   "source": [
    "# Initialize PyMongo to work with MongoDBs\n",
    "conn = 'mongodb://localhost:27017'\n",
    "client = pymongo.MongoClient(conn)"
   ]
  },
  {
   "cell_type": "code",
   "execution_count": 3,
   "id": "greenhouse-channels",
   "metadata": {
    "collapsed": true
   },
   "outputs": [],
   "source": [
    "# Define database and collection\n",
    "db = client.commerce_db\n",
    "collection = db.items"
   ]
  },
  {
   "cell_type": "code",
   "execution_count": 4,
   "id": "nominated-breath",
   "metadata": {
    "collapsed": true
   },
   "outputs": [],
   "source": [
    "# Scrape page\n",
    "url = 'https://mars.nasa.gov/news/'\n",
    "\n",
    "# Retrieve page with the requests module\n",
    "response = requests.get(url)\n",
    "# Create BeautifulSoup object; parse with 'lxml'\n",
    "soup = BeautifulSoup(response.text, 'lxml')"
   ]
  },
  {
   "cell_type": "code",
   "execution_count": 20,
   "id": "experimental-minnesota",
   "metadata": {
    "collapsed": false
   },
   "outputs": [
    {
     "data": {
      "text/plain": [
       "<div class=\"slide\">\n",
       "<div class=\"image_and_description_container\">\n",
       "<a href=\"/news/8896/nasa-ingenuity-mars-helicopter-prepares-for-first-flight/\">\n",
       "<div class=\"rollover_description\">\n",
       "<div class=\"rollover_description_inner\">\n",
       "Now uncocooned from its protective carbon-fiber shield, the helicopter is being readied for its next steps.  \n",
       "</div>\n",
       "<div class=\"overlay_arrow\">\n",
       "<img alt=\"More\" src=\"/assets/overlay-arrow.png\"/>\n",
       "</div>\n",
       "</div>\n",
       "<img alt=\"NASA Ingenuity Mars Helicopter Prepares for First Flight\" class=\"img-lazy\" data-lazy=\"/system/news_items/list_view_images/8896_thumb-320.jpg\" src=\"/assets/loading_320x240.png\"/>\n",
       "</a>\n",
       "</div>\n",
       "<div class=\"content_title\">\n",
       "<a href=\"/news/8896/nasa-ingenuity-mars-helicopter-prepares-for-first-flight/\">\n",
       "NASA Ingenuity Mars Helicopter Prepares for First Flight\n",
       "</a>\n",
       "</div>\n",
       "</div>"
      ]
     },
     "execution_count": 20,
     "metadata": {},
     "output_type": "execute_result"
    }
   ],
   "source": [
    "# Examine the results, then determine element that contains sought info\n",
    "# results are returned as an iterable list\n",
    "title_results = soup.find_all('div', class_='slide')[0]\n",
    "\n",
    "#Print scraped article header and description\n",
    "title_results"
   ]
  },
  {
   "cell_type": "code",
   "execution_count": 21,
   "id": "coated-kernel",
   "metadata": {
    "collapsed": false
   },
   "outputs": [],
   "source": [
    "#Define title and content\n",
    "article_title = \"NASA Ingenuity Mars Helicopter Prepares for First Flight\"\n",
    "paragraph_text = \"Now uncocooned from its protective carbon-fiber shield, the helicopter is being readied for its next steps.\""
   ]
  }
 ],
 "metadata": {
  "kernelspec": {
   "display_name": "PythonData",
   "language": "python",
   "name": "pythondata"
  },
  "language_info": {
   "codemirror_mode": {
    "name": "ipython",
    "version": 3
   },
   "file_extension": ".py",
   "mimetype": "text/x-python",
   "name": "python",
   "nbconvert_exporter": "python",
   "pygments_lexer": "ipython3",
   "version": "3.6.10"
  }
 },
 "nbformat": 4,
 "nbformat_minor": 5
}
